{
 "cells": [
  {
   "cell_type": "markdown",
   "metadata": {},
   "source": [
    "# Introduction"
   ]
  },
  {
   "cell_type": "markdown",
   "metadata": {},
   "source": [
    "* Control flow statements: all our programs until here were sequential. With control flow statements we can break up the flow of the program\n",
    "* Three types of instructions: \n",
    "\n",
    ">* decision-making or conditional: `if`, `if-else`, `if-elif-else`\n",
    ">* loops: `while`, `for`\n",
    ">* branching statements: `break`, `continue` and `return` (lesson 6)"
   ]
  },
  {
   "cell_type": "markdown",
   "metadata": {},
   "source": [
    "# Decision making"
   ]
  },
  {
   "cell_type": "markdown",
   "metadata": {},
   "source": [
    "* Instructions that allow to execute some lines only if a condition is true"
   ]
  },
  {
   "cell_type": "markdown",
   "metadata": {},
   "source": [
    "## `if` sentence"
   ]
  },
  {
   "cell_type": "markdown",
   "metadata": {},
   "source": [
    "`if condition:`  \n",
    "&nbsp;&nbsp;&nbsp;&nbsp;&nbsp;&nbsp;&nbsp;&nbsp;`instruction1`  \n",
    "&nbsp;&nbsp;&nbsp;&nbsp;&nbsp;&nbsp;&nbsp;&nbsp;`instruction2`  \n",
    "&nbsp;&nbsp;&nbsp;&nbsp;&nbsp;&nbsp;&nbsp;&nbsp;    `...`  \n",
    "&nbsp;&nbsp;&nbsp;&nbsp;&nbsp;&nbsp;&nbsp;&nbsp;`instructionN`\n",
    "\n",
    "* The condition must be a boolean (a boolean variable or a boolean expression)\n",
    "* `instruction1`, `instruction2`, etc. are called the block or the body of the `if`\n",
    "* By convention use 4 spaces for the body of the conditional (use tab and it will insert 4 spaces automatically)\n"
   ]
  },
  {
   "cell_type": "code",
   "execution_count": 2,
   "metadata": {},
   "outputs": [
    {
     "name": "stdout",
     "output_type": "stream",
     "text": [
      "Introduce your mark 4\n",
      "End of the program\n"
     ]
    }
   ],
   "source": [
    "mark = float(input(\"Introduce your mark \"))\n",
    "if mark >= 5:\n",
    "    # Indentation specifies the sentences that will be executed if \n",
    "    # the condition is true\n",
    "    print(\"You pass!\")\n",
    "    print(\"Let's go for some beers!\")\n",
    "# This is outside the if block and will be executed always\n",
    "print(\"End of the program\")"
   ]
  },
  {
   "cell_type": "markdown",
   "metadata": {},
   "source": [
    "## `if - else`"
   ]
  },
  {
   "cell_type": "markdown",
   "metadata": {},
   "source": [
    "`if condition:`  \n",
    "&nbsp;&nbsp;&nbsp;&nbsp;&nbsp;&nbsp;&nbsp;&nbsp;`instruction1`  \n",
    "&nbsp;&nbsp;&nbsp;&nbsp;&nbsp;&nbsp;&nbsp;&nbsp;`...`  \n",
    "&nbsp;&nbsp;&nbsp;&nbsp;&nbsp;&nbsp;&nbsp;&nbsp;`instructionN`  \n",
    "`else:`  \n",
    "&nbsp;&nbsp;&nbsp;&nbsp;&nbsp;&nbsp;&nbsp;&nbsp;`instructionA`  \n",
    "&nbsp;&nbsp;&nbsp;&nbsp;&nbsp;&nbsp;&nbsp;&nbsp;`...`  \n",
    "&nbsp;&nbsp;&nbsp;&nbsp;&nbsp;&nbsp;&nbsp;&nbsp;`instructionX`  \n",
    "\n",
    "* The `else` part is executed only if the condition is false\n",
    "* `else` part is optional, only use it if you really need it"
   ]
  },
  {
   "cell_type": "code",
   "execution_count": 3,
   "metadata": {},
   "outputs": [
    {
     "name": "stdout",
     "output_type": "stream",
     "text": [
      "Introduce your mark 2\n",
      "Oh, you failed!!\n",
      "No beer for you!\n",
      "Take a smoothy\n",
      "End of the program\n"
     ]
    }
   ],
   "source": [
    "mark = float(input(\"Introduce your mark \"))\n",
    "if mark >= 5:\n",
    "    # Indentation specifies the sentences that will be executed if \n",
    "    # the condition is true\n",
    "    print(\"You pass!\")\n",
    "    print(\"Let's go for some beers!\")\n",
    "else:\n",
    "    # This will be executed if the condition is false\n",
    "    print(\"Oh, you failed!!\")\n",
    "    print(\"No beer for you!\")\n",
    "    print(\"Take a smoothy\")\n",
    "# This is outside the if-else block and will be executed always\n",
    "print(\"End of the program\")"
   ]
  },
  {
   "cell_type": "markdown",
   "metadata": {},
   "source": [
    "## Checking several conditions in one `if`"
   ]
  },
  {
   "cell_type": "markdown",
   "metadata": {},
   "source": [
    "* We use logical operators: `and`, `or`, `not`\n",
    "* If the condition is too long, we put it inside parenthesis and then it can spawn into several lines"
   ]
  },
  {
   "cell_type": "code",
   "execution_count": 4,
   "metadata": {},
   "outputs": [
    {
     "name": "stdout",
     "output_type": "stream",
     "text": [
      "Do you want a beer? (Press enter for No)\n",
      "How much money do you have? 20\n",
      "Ok, no beer for you\n",
      "Bad for you\n"
     ]
    }
   ],
   "source": [
    "PRICE = 1.5\n",
    "# If we cast str to bool, any non-empty str will be true\n",
    "beer = bool(input(\"Do you want a beer? (Press enter for No)\" ))\n",
    "money = float(input(\"How much money do you have? \"))\n",
    "# When the condition includes a bool variable we don't use var == True,\n",
    "# we just use the var's name (or not var if we want var == False)\n",
    "if beer and money >= PRICE:\n",
    "    print('good!')\n",
    "    print('beer for you')\n",
    "    print('cheers!')\n",
    "else:\n",
    "    print('Ok, no beer for you')\n",
    "    print('Bad for you')"
   ]
  },
  {
   "cell_type": "markdown",
   "metadata": {},
   "source": [
    "## Chaining conditions (`elif`)"
   ]
  },
  {
   "cell_type": "markdown",
   "metadata": {},
   "source": [
    "* Checking several conditions one after the other (I check the first, if it is false I check the second, if it is false, I check the third one, etc.)\n",
    "* Once one condition is true, I ignore the remaining ones, even if some of they may be true too\n",
    "* The last else is optional and it is executed only if all the conditions are false"
   ]
  },
  {
   "cell_type": "code",
   "execution_count": 6,
   "metadata": {},
   "outputs": [
    {
     "name": "stdout",
     "output_type": "stream",
     "text": [
      "Introduce your mark 8.5\n",
      "Your mark is good\n"
     ]
    }
   ],
   "source": [
    "mark = float(input(\"Introduce your mark \"))\n",
    "if mark < 0 or mark > 10:\n",
    "    print(\"Wrong mark!\")\n",
    "elif mark < 5:\n",
    "    print(\"You failed!\")\n",
    "elif mark < 7:\n",
    "    print(\"Your mark is average\")\n",
    "elif mark < 9:\n",
    "    print(\"Your mark is good\")\n",
    "elif mark < 10:\n",
    "    print(\"Your mark is excellent!\")\n",
    "else:\n",
    "    print(\"You graduated with honors!!\")"
   ]
  },
  {
   "cell_type": "code",
   "execution_count": 7,
   "metadata": {},
   "outputs": [
    {
     "name": "stdout",
     "output_type": "stream",
     "text": [
      "Introduce your mark 8.5\n",
      "Your mark is good\n",
      "Your mark is very good!\n"
     ]
    }
   ],
   "source": [
    "\"\"\" This is an example to show how the program behaves differently if we use\n",
    "several if's one after another instead of an if-elif structure. In this case\n",
    "all the conditions that apply are executed\"\"\"\n",
    "mark = float(input(\"Introduce your mark \"))\n",
    "# If we use regular if's everything will be checked and everything that applies\n",
    "# will be executed\n",
    "if mark < 0 or mark > 10:\n",
    "    print(\"Wrong mark!\")\n",
    "if mark < 5:\n",
    "    print(\"You failed!\")\n",
    "if mark < 7:\n",
    "    print(\"Your mark is average\")\n",
    "if mark < 9:\n",
    "    print(\"Your mark is good\")\n",
    "if mark < 10:\n",
    "    print(\"Your mark is very good!\")\n",
    "else:\n",
    "    print(\"You graduated with honors!!\")"
   ]
  },
  {
   "cell_type": "markdown",
   "metadata": {},
   "source": [
    "## Defining variables inside conditionals"
   ]
  },
  {
   "cell_type": "markdown",
   "metadata": {},
   "source": [
    "* Be careful when you declare a variable inside a conditional. You must get sure that the variable takes a value in every possible branch of the conditional (whichever the value of the condition)\n",
    "* It is usually a good idea to initialize the variable before the conditional"
   ]
  },
  {
   "cell_type": "code",
   "execution_count": 1,
   "metadata": {},
   "outputs": [
    {
     "name": "stdout",
     "output_type": "stream",
     "text": [
      "Introduce your mark 4\n",
      "Now I will calculate if you pass\n"
     ]
    },
    {
     "ename": "NameError",
     "evalue": "name 'passed' is not defined",
     "output_type": "error",
     "traceback": [
      "\u001b[1;31m---------------------------------------------------------------------------\u001b[0m",
      "\u001b[1;31mNameError\u001b[0m                                 Traceback (most recent call last)",
      "\u001b[1;32m<ipython-input-1-d8fadce41814>\u001b[0m in \u001b[0;36m<module>\u001b[1;34m\u001b[0m\n\u001b[0;32m     12\u001b[0m \u001b[0mprint\u001b[0m\u001b[1;33m(\u001b[0m\u001b[1;34m\"Now I will calculate if you pass\"\u001b[0m\u001b[1;33m)\u001b[0m\u001b[1;33m\u001b[0m\u001b[1;33m\u001b[0m\u001b[0m\n\u001b[0;32m     13\u001b[0m \u001b[1;33m\u001b[0m\u001b[0m\n\u001b[1;32m---> 14\u001b[1;33m \u001b[1;32mif\u001b[0m \u001b[0mpassed\u001b[0m\u001b[1;33m:\u001b[0m\u001b[1;33m\u001b[0m\u001b[1;33m\u001b[0m\u001b[0m\n\u001b[0m\u001b[0;32m     15\u001b[0m     \u001b[0mprint\u001b[0m\u001b[1;33m(\u001b[0m\u001b[1;34m\"You pass!\"\u001b[0m\u001b[1;33m)\u001b[0m\u001b[1;33m\u001b[0m\u001b[1;33m\u001b[0m\u001b[0m\n\u001b[0;32m     16\u001b[0m \u001b[1;32melse\u001b[0m\u001b[1;33m:\u001b[0m\u001b[1;33m\u001b[0m\u001b[1;33m\u001b[0m\u001b[0m\n",
      "\u001b[1;31mNameError\u001b[0m: name 'passed' is not defined"
     ]
    }
   ],
   "source": [
    "# Problematic example: if the condition is false passed has no value,\n",
    "# an error will be raisen\n",
    "mark = float(input(\"Introduce your mark \"))\n",
    "if mark >= 5:\n",
    "    # Indentation specifies the sentences that will be executed if the\n",
    "    # condition is true\n",
    "    print(\"You pass!\")\n",
    "    print(\"Let's go for some beers!\")\n",
    "    # We initialize the variable here\n",
    "    passed = True\n",
    "\n",
    "print(\"Now I will calculate if you pass\")\n",
    "\n",
    "if passed:\n",
    "    print(\"You pass!\")\n",
    "else:\n",
    "    print(\"You fail\")"
   ]
  },
  {
   "cell_type": "code",
   "execution_count": 4,
   "metadata": {},
   "outputs": [
    {
     "name": "stdout",
     "output_type": "stream",
     "text": [
      "Enter your mark 4\n",
      "Now I will calculate if you pass\n",
      "You fail\n"
     ]
    }
   ],
   "source": [
    "# Right way to do it: to initialize the variables before the conditional\n",
    "# That way you get sure the variable will always have a value\n",
    "passed = False\n",
    "mark = float(input(\"Enter your mark \"))\n",
    "if mark >= 5:\n",
    "    passed = True\n",
    "    \n",
    "print(\"Now I will calculate if you pass\")\n",
    "\n",
    "if passed:\n",
    "    print(\"You pass!\")\n",
    "else:\n",
    "    print(\"You fail\")"
   ]
  },
  {
   "cell_type": "markdown",
   "metadata": {},
   "source": [
    "# Loops"
   ]
  },
  {
   "cell_type": "markdown",
   "metadata": {},
   "source": [
    "* Loops are used to repeat things (some lines of code)\n",
    "* Two types of loops:\n",
    "\n",
    "    >* Loops that repeat while a condition is true (`while`). In other languages we have `do-while` also, that gets sure that code is repeated at least once.\n",
    "    >* Loops that repeat a given number of times (`for`)"
   ]
  },
  {
   "cell_type": "markdown",
   "metadata": {},
   "source": [
    "## While loop"
   ]
  },
  {
   "cell_type": "markdown",
   "metadata": {},
   "source": [
    "* Loop that repeats from 0 to infinite times, while a condition is true\n",
    "\n",
    "`while condition:`  \n",
    "&nbsp;&nbsp;&nbsp;&nbsp;&nbsp;&nbsp;&nbsp;&nbsp;`instruction1`  \n",
    "&nbsp;&nbsp;&nbsp;&nbsp;&nbsp;&nbsp;&nbsp;&nbsp;`...`  \n",
    "&nbsp;&nbsp;&nbsp;&nbsp;&nbsp;&nbsp;&nbsp;&nbsp;`instructionN` \n",
    "\n",
    "* Steps: check condition, if it is true it executes the block (the body); at the end if checks condition again, if it keeps being true, it executes again; and so on until the condition is false"
   ]
  },
  {
   "cell_type": "code",
   "execution_count": 3,
   "metadata": {},
   "outputs": [
    {
     "name": "stdout",
     "output_type": "stream",
     "text": [
      "Enter your number 1\n",
      "Wrong! Try again!\n",
      "Enter your number 2\n",
      "Wrong! Try again!\n",
      "Enter your number 3\n",
      "Wrong! Try again!\n",
      "Enter your number 4\n",
      "Wrong! Try again!\n",
      "Enter your number 5\n",
      "You found it!\n"
     ]
    }
   ],
   "source": [
    "import random\n",
    "number = random.randrange(1,11)\n",
    "found = False\n",
    "while not found:\n",
    "    guess = int(input(\"Enter your number \"))\n",
    "    if guess == number:\n",
    "        found = True\n",
    "    else:\n",
    "        print(\"Wrong! Try again!\")       \n",
    "\n",
    "print(\"You found it!\")"
   ]
  },
  {
   "cell_type": "markdown",
   "metadata": {},
   "source": [
    "## While loop characteristics"
   ]
  },
  {
   "cell_type": "markdown",
   "metadata": {},
   "source": [
    "* We always need a control variable (the variable in the condition)\n",
    "* It must be initialized before the while loop starts\n",
    "* The value of the control variable must change in some way inside the loop so the condition is eventually false (if not it will be an infinite loop --> error!!!!)"
   ]
  },
  {
   "cell_type": "code",
   "execution_count": 1,
   "metadata": {},
   "outputs": [
    {
     "name": "stdout",
     "output_type": "stream",
     "text": [
      "0,1,2,3,4,5,6,7,8,9,"
     ]
    }
   ],
   "source": [
    "# We need to initialize the control variable before the loop\n",
    "counter = 0\n",
    "# The control variable is the variable that appears in the condition\n",
    "while counter < 10:\n",
    "    print(counter, end = \",\")\n",
    "    # Inside the loop I need to change the value of the control\n",
    "    # variable, so eventually the condition is false\n",
    "    counter = counter + 1"
   ]
  },
  {
   "cell_type": "markdown",
   "metadata": {},
   "source": [
    "## For loop"
   ]
  },
  {
   "cell_type": "markdown",
   "metadata": {},
   "source": [
    "* It is used when we know the number of times something will be repeated\n",
    "* Generally speaking there are two types of `for` loop:\n",
    "\n",
    ">* The 'regular' or classical for loop: we specify the number of times something will be repeated\n",
    ">* The for-each for loop: we repeat something for a sequence of elements (this is the by-default `for` loop in Python)\n",
    "\n",
    "* The only sequence we know until now are strings (lists and tuples, which will be seen in lesson 5, are also sequences)\n",
    "\n",
    "`for item in sequence:`  \n",
    "&nbsp;&nbsp;&nbsp;&nbsp;&nbsp;&nbsp;&nbsp;&nbsp;`instruction1`  \n",
    "&nbsp;&nbsp;&nbsp;&nbsp;&nbsp;&nbsp;&nbsp;&nbsp;`...`  \n",
    "&nbsp;&nbsp;&nbsp;&nbsp;&nbsp;&nbsp;&nbsp;&nbsp;`instructionN` \n",
    "\n",
    "* `item` is a variable (the name does not matter)\n",
    "* each element of the sequence is copied into the variable and some code is executed with it (in the first iteration we work with the first element of the sequence, in the second iteration with the second one, and so on)"
   ]
  },
  {
   "cell_type": "code",
   "execution_count": 4,
   "metadata": {},
   "outputs": [
    {
     "name": "stdout",
     "output_type": "stream",
     "text": [
      "Number of i: 5\n"
     ]
    }
   ],
   "source": [
    "st = \"This is a string, a string is a sequence of letters\"\n",
    "counter = 0\n",
    "# We call the variable 'letter' to make clear what it stores, \n",
    "# but it can have any name\n",
    "for letter in st:\n",
    "    # Each iteration a character of st will be copied into letter\n",
    "    # it is like writting letter = 'T', letter = \"h\", etc.\n",
    "    if letter == \"i\":\n",
    "        counter = counter + 1\n",
    "print(\"Number of i:\", counter)"
   ]
  },
  {
   "cell_type": "code",
   "execution_count": 6,
   "metadata": {},
   "outputs": [
    {
     "name": "stdout",
     "output_type": "stream",
     "text": [
      "Number of i: 5\n"
     ]
    }
   ],
   "source": [
    "# The former can also be done with a while loop, but for loop is \n",
    "# more compact\n",
    "index = 0\n",
    "counter = 0\n",
    "# Iterating until the end of the string\n",
    "while index < len(st):\n",
    "    if st[index] == \"i\":\n",
    "        counter = counter + 1\n",
    "    # We proceed with the next letter\n",
    "    index = index + 1\n",
    "print(\"Number of i:\", counter)"
   ]
  },
  {
   "cell_type": "code",
   "execution_count": 7,
   "metadata": {},
   "outputs": [
    {
     "name": "stdout",
     "output_type": "stream",
     "text": [
      "Thxs xs x strxng, x strxng xs x sequence of letters\n",
      "This is a string, a string is a sequence of letters\n"
     ]
    }
   ],
   "source": [
    "# Be careful, the elements are copied into the variable, but we\n",
    "# work with the copies, not with the original\n",
    "st2 = \"This is a string, a string is a sequence of letters\"\n",
    "# Each elemment of the string is copied into letter\n",
    "for letter in st2:\n",
    "    if letter == \"a\" or letter ==\"i\":\n",
    "        # the letter variable is changed, but the string is not\n",
    "        letter = \"x\"\n",
    "    # We can see that the value of letter is changed to 'x'\n",
    "    print(letter, end=\"\")\n",
    "print()\n",
    "# But the original variable is not affected, we work with a copy\n",
    "# It is said that strings are inmutable\n",
    "print(st2)"
   ]
  },
  {
   "cell_type": "code",
   "execution_count": 6,
   "metadata": {},
   "outputs": [
    {
     "name": "stdout",
     "output_type": "stream",
     "text": [
      "Hellx hxw are yxu?\n",
      "Hello how are you?\n",
      "Hellx hxw are yxu?\n"
     ]
    }
   ],
   "source": [
    "# If I want to change the contents of a string I use the \n",
    "# replace method. It returns a string with the changes but the\n",
    "# original string is not changed\n",
    "st3 = \"Hello how are you?\"\n",
    "# We print the result of replacing\n",
    "print(st3.replace(\"o\",\"x\"))\n",
    "# But the original string is not changed\n",
    "print(st3)\n",
    "# If I want the variable to change, I need to reassign it\n",
    "# actually we are creating a new variable, the original contents \n",
    "# are lost\n",
    "st3 = st3.replace(\"o\",\"x\")\n",
    "print(st3)"
   ]
  },
  {
   "cell_type": "markdown",
   "metadata": {},
   "source": [
    "## Classical for loops: the range() function"
   ]
  },
  {
   "cell_type": "markdown",
   "metadata": {},
   "source": [
    "* Python does not directly support classical `for` loops\n",
    "* But it can simulate them using the `range()` function\n",
    "* `range(number)`: returns all the numbers between 0 and that number (not including it)\n",
    "* `range(a, b)`: returns all numbers between a and b (b not included)\n",
    "* `range(a, b, step)`: returns all numbers between a and b (b not included) increasing by step"
   ]
  },
  {
   "cell_type": "code",
   "execution_count": 14,
   "metadata": {},
   "outputs": [
    {
     "name": "stdout",
     "output_type": "stream",
     "text": [
      "1 2 3 4 5 6 7 8 9 \n",
      "1 5 9 13 17 \n",
      "0 1 2 3 4 5 "
     ]
    }
   ],
   "source": [
    "# counter takes values 1, 2, 3, ...9\n",
    "for counter in range(1,10):\n",
    "    print(counter, end = \" \")\n",
    "print()\n",
    "# counter goes from 1 to 20 in steps of 4\n",
    "for counter in range(1, 20, 4):\n",
    "    print(counter, end = \" \")\n",
    "print()\n",
    "# counter takes values 0, 1, ... 5\n",
    "for counter in range(6):\n",
    "    print(counter, end = \" \")"
   ]
  },
  {
   "cell_type": "markdown",
   "metadata": {},
   "source": [
    "## Nested loops\n",
    "\n",
    "* A loop inside a loop (usually done with `for` loops, but we can mix any number of `for` and `while` loops)\n",
    "* For every iteration of the outer loop, the inner loop will be completely repeated (for each value the control variable of the outer loop takes, the control variable of the inner loop takes all its values)"
   ]
  },
  {
   "cell_type": "code",
   "execution_count": 12,
   "metadata": {},
   "outputs": [
    {
     "name": "stdout",
     "output_type": "stream",
     "text": [
      "\n",
      "counter1: 0 counter2 0\n",
      "counter1: 0 counter2 1\n",
      "counter1: 0 counter2 2\n",
      "counter1: 0 counter2 3\n",
      "\n",
      "counter1: 1 counter2 0\n",
      "counter1: 1 counter2 1\n",
      "counter1: 1 counter2 2\n",
      "counter1: 1 counter2 3\n",
      "\n",
      "counter1: 2 counter2 0\n",
      "counter1: 2 counter2 1\n",
      "counter1: 2 counter2 2\n",
      "counter1: 2 counter2 3\n",
      "\n",
      "The block inside the inner loop is repeated 12 times\n"
     ]
    }
   ],
   "source": [
    "times = 0\n",
    "# counter1 takes values 0 to 2\n",
    "for counter1 in range(3):\n",
    "    print()\n",
    "    # for each value of counter1, counter2 takes values 0 to 3\n",
    "    for counter2 in range(4):\n",
    "        # This line is executed 12 times (4 times for each counter1\n",
    "        # value, and we have 3 counter1 values)\n",
    "        print(\"counter1:\", counter1, \"counter2\", counter2)\n",
    "        times = times + 1\n",
    "print()\n",
    "print(\"The block inside the inner loop is repeated\", times, \"times\")"
   ]
  },
  {
   "cell_type": "markdown",
   "metadata": {},
   "source": [
    "Let's see the program step by step\n",
    "\n",
    "1. `counter1` takes 0 in line 3\n",
    "2. `counter2` takes 0 in line 6\n",
    "3. `times` takes 1 in line 10\n",
    "4. The second loop is repeated and now `counter2` takes 1 in line 6\n",
    "5. `times` takes 2 in line 10\n",
    "6. Those steps are repeated until `counter2` takes 4\n",
    "7. `counter1` takes 1\n",
    "8. `counter2` starts again from 0"
   ]
  },
  {
   "cell_type": "markdown",
   "metadata": {},
   "source": [
    "# Branching statements"
   ]
  },
  {
   "cell_type": "markdown",
   "metadata": {},
   "source": [
    "* `break`, `continue` and `return` (this one will be introduced in lesson 6)"
   ]
  },
  {
   "cell_type": "markdown",
   "metadata": {},
   "source": [
    "## Break"
   ]
  },
  {
   "cell_type": "markdown",
   "metadata": {},
   "source": [
    "* If `break` is found inside a loop, it stops the loop and finishes it (it will not even execute the remaining of the current iteration)\n",
    "* TOTALLY FORBIDDEN to use break (if you break in a loop in the exam, the whole exercise is considered wrong!!)\n",
    "* Why break is a bad programming practice?: If I look at the header of a for loop I should know how many times it will be repeated, if I use break inside it I will not know it"
   ]
  },
  {
   "cell_type": "code",
   "execution_count": 23,
   "metadata": {},
   "outputs": [
    {
     "name": "stdout",
     "output_type": "stream",
     "text": [
      "0 1 2 3 4 5 "
     ]
    }
   ],
   "source": [
    "# Example of using break (bad programming practice)\n",
    "for count in range(12):\n",
    "    if count == 6:\n",
    "        # When count is 6 we stop the loop, so we don't print anymore\n",
    "        break\n",
    "    print(count, end = \" \")"
   ]
  },
  {
   "cell_type": "code",
   "execution_count": 14,
   "metadata": {},
   "outputs": [
    {
     "name": "stdout",
     "output_type": "stream",
     "text": [
      "Enter the letter you are looking for o\n",
      "o is at position 4\n",
      "o is at position 4\n"
     ]
    }
   ],
   "source": [
    "# An example of why break is useful and a way to avoid using it\n",
    "# We want to look for a letter in a string and when we find it\n",
    "# we don't want to keep looking for it, but to return its position\n",
    "# We could have used the 'in' operator instead of a loop\n",
    "s = \"hello how are you\"\n",
    "my_letter = input(\"Enter the letter you are looking for \")\n",
    "# First way, using for and break (forbidden this year)\n",
    "counter = 0\n",
    "for letter in s:\n",
    "    if letter == my_letter:\n",
    "        print(my_letter, \"is at position\", counter)\n",
    "        break\n",
    "    counter = counter + 1\n",
    "    \n",
    "# Second way, as we don't know how many times the loop will be \n",
    "# repeated (it depends on the position of the letter), we use a\n",
    "# while loop with 2 control variables\n",
    "found = False\n",
    "counter = 0\n",
    "while (counter < len(s) and not found):\n",
    "    if s[counter] == my_letter:\n",
    "        print(my_letter, \"is at position\", counter)\n",
    "        found = True\n",
    "    else:\n",
    "        counter = counter+1"
   ]
  },
  {
   "cell_type": "markdown",
   "metadata": {},
   "source": [
    "## Continue"
   ]
  },
  {
   "cell_type": "markdown",
   "metadata": {},
   "source": [
    "* It skips the remaining of that iteration and starts the next one"
   ]
  },
  {
   "cell_type": "code",
   "execution_count": 16,
   "metadata": {},
   "outputs": [
    {
     "name": "stdout",
     "output_type": "stream",
     "text": [
      "0 1 2 3 4 5 7 8 9 10 11 "
     ]
    }
   ],
   "source": [
    "# Example of using continue\n",
    "for count in range(12):\n",
    "    if count == 6:\n",
    "        continue\n",
    "    print(count, end = \" \")"
   ]
  },
  {
   "cell_type": "code",
   "execution_count": 15,
   "metadata": {},
   "outputs": [
    {
     "name": "stdout",
     "output_type": "stream",
     "text": [
      "1 3 5 7 9 11 "
     ]
    }
   ],
   "source": [
    "# Example of using continue to skip some numbers (even ones)\n",
    "for count in range(12):\n",
    "    if count % 2 == 0:\n",
    "        continue\n",
    "    print(count, end = \" \")"
   ]
  }
 ],
 "metadata": {
  "kernelspec": {
   "display_name": "Python 3",
   "language": "python",
   "name": "python3"
  },
  "language_info": {
   "codemirror_mode": {
    "name": "ipython",
    "version": 3
   },
   "file_extension": ".py",
   "mimetype": "text/x-python",
   "name": "python",
   "nbconvert_exporter": "python",
   "pygments_lexer": "ipython3",
   "version": "3.9.5"
  }
 },
 "nbformat": 4,
 "nbformat_minor": 4
}

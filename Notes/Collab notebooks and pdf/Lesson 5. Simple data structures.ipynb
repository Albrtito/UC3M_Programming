{
 "cells": [
  {
   "cell_type": "markdown",
   "metadata": {},
   "source": [
    "# Introduction\n",
    "* A data structure is no more than a set of data items grouped together into the same variable --> we reserve multiple memory cells and give them a unique name (a string can be considered a very simple data structure)\n",
    "* They allow us to store several data using only one variable\n",
    "* Two types of simple data structures:\n",
    "\n",
    ">* To store several data of the same type (arrays): in Python we have lists and tuples\n",
    ">* To store some data of different types (records): in Python we have dictionaries and objects\n",
    "\n",
    "# Lists\n",
    "* Lists are the equivalent to arrays in other languages\n",
    "* A list is a finite, heterogeneous and mutable collection of elements indexed by position\n",
    "\n",
    ">* finite means that there is a maximum number of elements in a list (it depends on the computer)\n",
    ">* heterogeneous means that a list may contain data of different types (unlike arrays in other languages that only allow to store data of the same type)\n",
    ">* mutable means that the elements of the list can be changed. I can add, delete or modify elements.\n",
    ">* indexed by position: we access to each element by its position in the list (similar to the way we access letters in a string)\n",
    "\n",
    "* A string is a finite, homogeneous and inmutable collection of elements (characters) indexed by position\n",
    "\n",
    "* Syntax: `list_name = [element1, element2, element3]`"
   ]
  },
  {
   "cell_type": "code",
   "execution_count": 1,
   "metadata": {},
   "outputs": [
    {
     "name": "stdout",
     "output_type": "stream",
     "text": [
      "3\n",
      "[1, 2, 'hello', 4]\n",
      "Maximum number of elements in a list in this computer: 9223372036854775807\n"
     ]
    }
   ],
   "source": [
    "# A list of 4 integer elements\n",
    "list1 = [1, 2, 3, 4]\n",
    "# A list of 5 heterogeneous elements\n",
    "list2 = [1, \"hello\", 3.54, False, 3 + 2j]\n",
    "# I can use [] to access to the elements of a list, the 1st is at position 0\n",
    "print(\"The first element of\", list1, \"is\", list1[0])\n",
    "print(\"The 2nd element from the end of\", list1, \"is\", list1[-2])\n",
    "# There is no problem on changing elements inside a list (lists are mutable)\n",
    "list1[2] = \"hello\"\n",
    "print(list1)\n",
    "print(\"List is now:\", list1)\n",
    "# Max number of elements of a list depends on the computer. To know it:\n",
    "import sys\n",
    "print(\"Maximum number of elements in a list in this computer:\",sys.maxsize)"
   ]
  },
  {
   "cell_type": "markdown",
   "metadata": {},
   "source": [
    "## Ways to create lists\n",
    "* Using literals to enumerate the elements of the list, only usefull in small lists\n",
    "* Using variables to give the values: It copies the value of the variable, there is no relation between the variable and the list element. If one changes the other one does not\n",
    "* Using another list and the `+` operator: A new list is created with the values of the other list. If one changes the other one does not\n",
    "* Using `*` to repeat some parts of the list\n",
    "* Using loops: quite used in big lists (an alternative is to use list comprehension)"
   ]
  },
  {
   "cell_type": "code",
   "execution_count": 2,
   "metadata": {},
   "outputs": [
    {
     "name": "stdout",
     "output_type": "stream",
     "text": [
      "list1 is [1, 2, 3, 4, 5, 6]\n",
      "list2 is [1, 2, 3]\n",
      "list2 is [1, 2, 3] it does not change\n",
      "list4 is [1, 2, 3, 4, 5, 6, 1, 2, 3, 'hello', 'how', 'are', 'you']\n",
      "list1 is [0, 2, 3, 4, 5, 6]\n",
      "list4 is [1, 2, 3, 4, 5, 6, 1, 2, 3, 'hello', 'how', 'are', 'you'] it does not change\n",
      "[0, 2, 3, 4, 5, 6, 5, 'hello']\n",
      "[0, 2, 3, 4, 5, 6, 5, 'hello', 'h', 'e', 'l', 'l', 'o']\n",
      "list5 is [0, 2, 3, 4, 5, 6, 5, 'hello', 'h', 'e', 'l', 'l', 'o', 0, 2, 3, 4, 5, 6, 5, 'hello', 'h', 'e', 'l', 'l', 'o', 4, 6]\n",
      "list6 is [0, 1, 2, 3, 4, 5, 6, 7, 8, 9]\n"
     ]
    }
   ],
   "source": [
    "# Using literals\n",
    "list1 = [1, 2, 3, 4, 5, 6]\n",
    "print(\"list1 is\", list1)\n",
    "# Using variables (the values are copied)\n",
    "a, b, c = 1, 2, 3\n",
    "# This is read as copy the values of a, b, c into the list\n",
    "list2 = [a, b, c]\n",
    "print(\"list2 is\",list2)\n",
    "# The value of a is changed\n",
    "a = 8\n",
    "# But the value of the corresponding element of the list is not changed\n",
    "print(\"list2 is\", list2, \"it does not change\")\n",
    "# Using other list(s)\n",
    "list3 = [\"hello\", \"how\", 'are', 'you']\n",
    "list4 = list1 + list2 + list3\n",
    "print(\"list4 is\", list4)\n",
    "list1[0] = 0\n",
    "print(\"list1 is\", list1)\n",
    "print(\"list4 is\", list4, \"it does not change\")\n",
    "# The + operator needs two lists\n",
    "list1 = list1 + [5]\n",
    "# beware with strings\n",
    "list1 += [\"hello\"]\n",
    "print(list1)\n",
    "# If we forget the [] when using + the result is different\n",
    "list1 += \"hello\"\n",
    "print(list1)\n",
    "# Using *\n",
    "list5 = list1 * 2 + [4, 6]\n",
    "print(\"list5 is\", list5)\n",
    "# Using a loop and the + operator\n",
    "list6 = []\n",
    "for i in range(10):\n",
    "    list6 += [i]\n",
    "print(\"list6 is\", list6)"
   ]
  },
  {
   "cell_type": "markdown",
   "metadata": {},
   "source": [
    "## Functions and operators with lists\n",
    "* As we have seen, to access an element we use its index (first is zero). Error if we try to access a non-existing element. If we use negative numbers we start from the end of the list (first is -1). We can also use `+` and `*`.\n",
    "* We can use slicing operators `[a:b]` like in strings\n",
    "* We can use the `in` and `not in` operators to check if an element is inside a list or not\n",
    "* Functions that we can use with lists:\n",
    "\n",
    ">* `print(list)`: prints all the elements of the list\n",
    ">* `len(list)`: returns the number of elements of a list\n",
    ">* `del(list[index])`: removes the element at position `index` from the list. If you want to delete several elements, it is better to start deleting by the last one (if you delete one, all the remaining ones change their positions). You can use negative numbers to start deleting from the end\n",
    ">* `del(list)`: removes all the elements of the list, and also the variable (not really compulsory as python takes care of deleting no longer needed variables)\n",
    ">* `del(list[pos1:pos2])`: removes the elements between `pos1` and `pos2` (the last not included)"
   ]
  },
  {
   "cell_type": "code",
   "execution_count": 3,
   "metadata": {},
   "outputs": [
    {
     "name": "stdout",
     "output_type": "stream",
     "text": [
      "list1 is [0, 2, 3, 4, 5, 6, 5, 'hello', 'h', 'e', 'l', 'l', 'o']\n",
      "elements 0 and 1 of list1 [0, 2]\n",
      "list1 is [9, 3, 4, 5, 6, 5, 'hello', 'h', 'e', 'l', 'l', 'o']\n",
      "list4 is [1, 2, 3, 4, 5, 6, 1, 2, 3, 'hello', 'how', 'are', 'you'] and has length 13\n",
      "Removed element #2 of list4 [1, 2, 4, 5, 6, 1, 2, 3, 'hello', 'how', 'are', 'you']\n",
      "Now removing 0 and 1 [4, 5, 6, 1, 2, 3, 'hello', 'how', 'are', 'you']\n",
      "Is there a 5 in list4? True\n"
     ]
    }
   ],
   "source": [
    "print(\"list1 is\", list1)\n",
    "# Print elements 0 and 1\n",
    "print(\"elements 0 and 1 of list1\", list1[0:2])\n",
    "# Unlike in strings (which are inmutable) we can use slicing operators to change\n",
    "# parts of a list\n",
    "# Changing elements 0 and 1 by [9]. You change a sublist by another sublist\n",
    "list1[0:2] = [9]\n",
    "print(\"list1 is\", list1)\n",
    "# To see the length of a list\n",
    "print(\"list4 is\", list4, \"and has length\", len(list4))\n",
    "# This removes element 2\n",
    "del(list4[2])\n",
    "print(\"Removed element #2 of list4\", list4)\n",
    "# This removes 0 and 1\n",
    "del(list4[0:2])\n",
    "print(\"Now removing 0 and 1\", list4)\n",
    "# An alternative way is to do list4[0:2] = []\n",
    "# This says if 5 is an element of list4 (is element in list?)\n",
    "print(\"Is there a 5 in list4?\", 5 in list4)"
   ]
  },
  {
   "cell_type": "markdown",
   "metadata": {},
   "source": [
    "## List methods\n",
    "List methods allow us to work with lists. They are like functions that we can apply only to a list. The way to apply them is to put `list_name.method()` (functions are `function(list_name)`). We ask the list to execute that method.\n",
    "\n",
    "* `append(element)`: adds an element at the end of the list. It is much more efficient to use `list_name.append(element)` than `list_name = list_name + [element]`\n",
    "* `insert(index, element)`: inserts the element at the given position. If the position does not exist it will append it at the end. If you use a negative index, it will start counting from the end:  `insert(-1, element)` is equivalent to `append(element)`\n",
    "* `list1.extend(list2)`: appends all the elements of `list2` to `list1`. Equivalent to `list1 = list1 + list2` but using the `+` sign is less efficient as a copy of both lists is created and assigned to list1\n",
    "* `index(element)`: returns the position of the element in the list. Error if the list does not contain the element (I should check first the element is in the list). If the element is repeated it returns the first position\n",
    "* `index(element, start, end)`: returns the position of the element in the sublist between start and end (not included). `end` is optional.\n",
    "* `count(element)`: returns the number of times the element is in list\n",
    "* `clear()`: removes all the elements of the list. The list will be the empty one. With the `del(list)` function you also remove the variable, here the variable exists\n",
    "* `remove(element)`: deletes the first appearance of the element in the list. If the element does not belong to the list, error. With `del(list([index])`, we remove giving the position, here we give the element\n",
    "* `pop()`: removes and **returns** the last element. The element should be stored in another variable. \n",
    "* `pop(index)`: removes and returns the element at a given position. The element should be stored in another variable. \n",
    "* `reverse()`: reverses the list\n",
    "* `sort()`: sorts the list. It only works for lists made of similar elements (you cannot sort a list containing both string and numbers)"
   ]
  },
  {
   "cell_type": "code",
   "execution_count": 4,
   "metadata": {},
   "outputs": [
    {
     "name": "stdout",
     "output_type": "stream",
     "text": [
      "list1 is [1, 2, 3, 4, 5, 0]\n",
      "list1 is [1, 2, 3, 4, 5, 0, 3]\n",
      "list1 is [1, 2, 3, 4, 5, 0, 3, 'bye']\n",
      "list1 is [1, 2, 3, 4, 5, 0, 3, 'bye', 'b', 'y', 'e']\n",
      "list1 is [1, 2, 'hello', 3, 4, 5, 0, 3, 'bye', 'b', 'y', 'e']\n",
      "list1 is [1, 2, 'hello', 3, 4, 5, 0, 3, 'bye', 'b', 'y', 'e', 2.2, 'Pepe']\n",
      "list1 is [1, 2, 'hello', 3, 4, 5, 0, 3, 'bye', 'b', 'y', 'e', 2.2, 'Pepe', [2.2, 'Pepe']]\n",
      "First 3 in list 1 is at position 3\n",
      "There is a 3 at position 7 between elements 4 and 8\n",
      "The type of the 6th element of the list is <class 'int'>\n",
      "There are 2 3's in the list\n",
      "list 1 is [1, 2, 'hello', 4, 5, 0, 3, 'bye', 'b', 'y', 'e', 2.2, 'Pepe', [2.2, 'Pepe']]\n",
      "list 1 is []\n"
     ]
    }
   ],
   "source": [
    "list1 = [1, 2, 3, 4, 5]\n",
    "# Adding a new element\n",
    "list1.append(0)\n",
    "print(\"list1 is\", list1)\n",
    "# An alternative way is to use + and to include the element into its own list\n",
    "# It is better to use append (it is faster)\n",
    "list1 = list1 + [3]\n",
    "print(\"list1 is\", list1)\n",
    "# beware with strings\n",
    "list1 += [\"bye\"]\n",
    "print(\"list1 is\", list1)\n",
    "# if we don't enclose the string in a list it considers each element in isolation\n",
    "list1 += \"bye\"\n",
    "print(\"list1 is\", list1)\n",
    "# Inserts \"hello\" at the second position of the list\n",
    "list1.insert(2, \"hello\")\n",
    "print(\"list1 is\", list1)\n",
    "# Append one list to another one with extend\n",
    "# It copies one by one the elements of list2 into list1\n",
    "list2 = [2.2, \"Pepe\"]\n",
    "list1.extend(list2)\n",
    "print(\"list1 is\", list1)\n",
    "# Notice that if we append one list to the other, the second is appended\n",
    "# as a single element. Now, the last element of list1 is also a list\n",
    "list1.append(list2)\n",
    "print(\"list1 is\", list1)\n",
    "# Which is the index of 3 in list1?\n",
    "print(\"First 3 in list 1 is at position\", list1.index(3))\n",
    "# Which is the index of 3 between positions 4 and 8 (in the sublist from 4 to 8)?\n",
    "print(\"There is a 3 at position\", list1.index(3, 4, 8), \"between elements 4 and 8\")\n",
    "# If you want to know the types of the elements of a list\n",
    "print(\"The type of the 6th element of the list is\", type(list1[6]))\n",
    "# How many times 3 is in list?\n",
    "print(\"There are\", list1.count(3), \"3's in the list\")\n",
    "# Removes the first 3 in list3\n",
    "list1.remove(3)\n",
    "print(\"list 1 is\", list1)\n",
    "# Removing all the elements of list1, \n",
    "\n",
    "list1.clear()\n",
    "print(\"list 1 is\", list1)"
   ]
  },
  {
   "cell_type": "code",
   "execution_count": 5,
   "metadata": {},
   "outputs": [
    {
     "name": "stdout",
     "output_type": "stream",
     "text": [
      "list1 is [5, 4, 3, 2, 1]\n",
      "The variable a, now contains the last element of the list: 1\n",
      "list1 is [5, 4, 3, 2]\n",
      "list2 is [0.2, 1, 2, 3, 3.1, 5]\n"
     ]
    }
   ],
   "source": [
    "# Using reverse and sort\n",
    "list1 = [1, 2, 3, 4, 5]\n",
    "list1.reverse()\n",
    "print(\"list1 is\", list1)\n",
    "# Pop removes and returns the last element of the list (with remove the element is\n",
    "# just thrown away)\n",
    "a = list1.pop()\n",
    "print(\"The variable a, now contains the last element of the list:\", a)\n",
    "print(\"list1 is\", list1)\n",
    "# sort the list in order (the elements must be compatible)\n",
    "list2 = [1, 2, 3.1, 0.2, 5, 3]\n",
    "list2.sort()\n",
    "print(\"list2 is\", list2)"
   ]
  },
  {
   "cell_type": "markdown",
   "metadata": {},
   "source": [
    "## Comparing lists\n",
    "* We can use `==` and `!=` to see if two lists are equal or not (they are equal only if they have the same elements in the same order)\n",
    "* We can also use `< <= > >=` \n",
    "* They compare element by element (first to first, second to second and so on) If both lists are equal then they compare the length"
   ]
  },
  {
   "cell_type": "code",
   "execution_count": 8,
   "metadata": {},
   "outputs": [
    {
     "name": "stdout",
     "output_type": "stream",
     "text": [
      "are [1, 2, 3, 4] and [1, 2, 3, 4] equal? True\n",
      "is [1, 1, 3, 4, 5, 6, 7] less than [1, 2, 3, 4] ? True\n",
      "is [1, 'hello', True] less than [1, 'bye', False] ? False\n",
      "is [1, 2, 3, 4, 5] greater than [1, 2, 3, 4] ? True\n",
      "is [1, 2, 3, 4, 5] greater than [1, 1, 3, 4, 5, 6, 7] ? True\n"
     ]
    }
   ],
   "source": [
    "list1 = [1, 2, 3, 4]\n",
    "list2 = [1, 2, 3, 4]\n",
    "list3 = [1, 1, 3, 4, 5, 6, 7]\n",
    "list4 =  [1, 2, 3, 4, 5]\n",
    "print(\"are\", list1, \"and\", list2, \"equal?\", list1 == list2)\n",
    "# list3 is smaller than list1, because the first different element of list3 is smaller\n",
    "# (the '1' at position number 1)\n",
    "print(\"is\", list3, \"less than\", list1, \"?\", list3 < list1)\n",
    "# We can compare lists of heterogeneous elements, given that elements at\n",
    "# similar positions are comparable\n",
    "list5 = [1, \"hello\", True]\n",
    "list6 = [1, \"bye\", False]\n",
    "# list 5 is not smaller because the elements 1 start by 'h' and 'b' and 'h'>'b'\n",
    "print(\"is\", list5, \"less than\", list6, \"?\", list5 < list6)\n",
    "# list4 > list1 as all the common elemnts are equal but list4 is bigger\n",
    "print(\"is\", list4, \"greater than\", list1, \"?\", list4 > list1)\n",
    "# But length is only considered when all the elements are equal\n",
    "# position 1 of list4 is greater than positon1 of list3\n",
    "print(\"is\", list4, \"greater than\", list3, \"?\", list4 > list3)"
   ]
  },
  {
   "cell_type": "markdown",
   "metadata": {},
   "source": [
    "## Copying lists\n",
    "* If you assign a list to another list using `=` they are actually the same list (don't do it). They behave like this because they are mutable. We can check it using the `id()` function or the `is` operator\n",
    "* The `is` operator tells me if two variables point to the same memory address (identity operator)\n",
    "* Proper ways to copy lists:\n",
    "\n",
    ">* Using loops\n",
    ">* Using slicing\n",
    ">* Using the `.copy()` method\n",
    ">* Using `.extends()` method on an empty list"
   ]
  },
  {
   "cell_type": "code",
   "execution_count": 9,
   "metadata": {},
   "outputs": [
    {
     "name": "stdout",
     "output_type": "stream",
     "text": [
      "list 1 is ['hello', 2, 3, 4]\n",
      "id of list1 15282120\n",
      "id of list2 15282120\n",
      "Are list1 and list2 the same list? True\n",
      "Are list1 and list3 equal? True\n",
      "Are list1 and list3 the same list? False\n",
      "Copying with a loop\n",
      "list2 is ['hello', 2, 3, 4]\n",
      "Are list1 and list2 the same list? False\n",
      "id of list1 15282120\n",
      "id of list2 80386632\n",
      "Copying with slicing\n",
      "list2 is ['hello', 2, 3, 4]\n",
      "Are list1 and list2 the same list? False\n",
      "id of list1 15282120\n",
      "id of list2 80414856\n",
      "Copying with copy() method\n",
      "list2 is ['hello', 2, 3, 4]\n",
      "Are list1 and list2 the same list? False\n",
      "id of list1 15282120\n",
      "id of list2 15278184\n",
      "Copying with extends\n",
      "list2 is ['hello', 2, 3, 4]\n",
      "Are list1 and list2 the same list? False\n",
      "id of list1 15282120\n",
      "id of list2 80414280\n"
     ]
    }
   ],
   "source": [
    "list1 = [1, 2, 3, 4]\n",
    "# list1 and list2 are the same list, they point to the same memory address. Is like\n",
    "# having a list with two names\n",
    "list2 = list1\n",
    "list2[0] = \"hello\"\n",
    "print(\"list 1 is\", list1)\n",
    "# We can use the id() function to check that actually they are the same list\n",
    "print(\"id of list1\", id(list1))\n",
    "print(\"id of list2\", id(list2))\n",
    "print(\"Are list1 and list2 the same list?\", list1 is list2)\n",
    "list3 = [\"hello\", 2, 3, 4]\n",
    "# list1 and list3 are equal\n",
    "print(\"Are list1 and list3 equal?\", list3 == list1)\n",
    "# but they are not the same list (they are at different memory positions)\n",
    "print(\"Are list1 and list3 the same list?\", list3 is list1)\n",
    "\n",
    "# Copying list1 into list2 using loops\n",
    "# We create an empty list and then use a for loop to append elements to it\n",
    "list2 = []\n",
    "for element in list1:\n",
    "    list2.append(element)\n",
    "print(\"Copying with a loop\")\n",
    "print(\"list2 is\", list2)\n",
    "print(\"Are list1 and list2 the same list?\", list2 is list1)\n",
    "print(\"id of list1\", id(list1))\n",
    "print(\"id of list2\", id(list2))\n",
    "# Copying list1 into list2 using slicing\n",
    "list2 = list1[:]\n",
    "print(\"Copying with slicing\")\n",
    "print(\"list2 is\", list2)\n",
    "print(\"Are list1 and list2 the same list?\", list2 is list1)\n",
    "print(\"id of list1\", id(list1))\n",
    "print(\"id of list2\", id(list2))\n",
    "# Using the copy method (if list2 had any values they are lost)\n",
    "list2 = list1.copy()\n",
    "print(\"Copying with copy() method\")\n",
    "print(\"list2 is\", list2)\n",
    "print(\"Are list1 and list2 the same list?\", list2 is list1)\n",
    "print(\"id of list1\", id(list1))\n",
    "print(\"id of list2\", id(list2))\n",
    "# Using extends (the list2 must be empty)\n",
    "list2 =  []\n",
    "list2.extend(list1)\n",
    "print(\"Copying with extends\")\n",
    "print(\"list2 is\", list2)\n",
    "print(\"Are list1 and list2 the same list?\", list2 is list1)\n",
    "print(\"id of list1\", id(list1))\n",
    "print(\"id of list2\", id(list2))"
   ]
  },
  {
   "cell_type": "markdown",
   "metadata": {},
   "source": [
    "## Lists and loops\n",
    "We use loops to work with lists. The most suitable loop depends on whether you want to change the value of some elements of the list, and if you plan to walk through the entire list or not\n",
    "\n",
    "* If I want to walk through the entire list and I don't want to change any of its values: for-each loop\n",
    "* If I want to walk through the entire list and I want to change any of its values: for-range loop\n",
    "* If don't want to walk through the entire list: while"
   ]
  },
  {
   "cell_type": "code",
   "execution_count": 8,
   "metadata": {},
   "outputs": [
    {
     "name": "stdout",
     "output_type": "stream",
     "text": [
      "21\n",
      "[2, 2, 4, 4, 6, 6]\n",
      "[47, 57, 55, 65, 82, 59, 35, 26, 94, 1]\n",
      "The element at position 2 is greater than 3\n"
     ]
    }
   ],
   "source": [
    "# First example: for each\n",
    "# Adds the elements of the list\n",
    "# We want to walk through the entire list but no changes on it\n",
    "list1 = [1, 2, 3, 4, 5, 6]\n",
    "result = 0\n",
    "for element in list1:\n",
    "    # Each iteration one element of my list is copied into the\n",
    "    # element variable, and I work with the copy\n",
    "    result = result + element\n",
    "print(result)\n",
    "\n",
    "# Second example: for range\n",
    "# Changes elements with odd value to even value\n",
    "# We want to walk through the entire list and perform some changes\n",
    "for index in range(len(list1)):\n",
    "    if list1[index] % 2 != 0:\n",
    "        list1[index] += 1\n",
    "print(list1)\n",
    "\n",
    "# Third example: for range also to create the list\n",
    "# Filling a list with 10 random numbers\n",
    "import random\n",
    "list3 = []\n",
    "for index in range(10):\n",
    "    list3.append(random.randrange(0,100))\n",
    "print(list3)\n",
    "\n",
    "# Third example: while\n",
    "# We don't know if we need to walk through all the list\n",
    "# Use it both if you want to make changes or not\n",
    "index = 0\n",
    "found = False\n",
    "while not found and index < len(list1):\n",
    "    if list1[index] > 3:\n",
    "        found = True\n",
    "    else:\n",
    "        index = index + 1\n",
    "\n",
    "if found:\n",
    "    print(\"The element at position\", index, \"is greater than 3\")\n",
    "else:\n",
    "    print(\"No element is greater than 3\")"
   ]
  },
  {
   "cell_type": "markdown",
   "metadata": {},
   "source": [
    "# Tuples\n",
    "* A finite, **immutable** sequence of heterogeneous elements indexed by position\n",
    "* Elements of a tuple can not be changed, neither the length of the tuple \n",
    "* `variable = (element1, element2, element3 ...)`\n",
    "* Parentheses are optional\n",
    "\n",
    "* Ways to create tuples:\n",
    "\n",
    ">* Using literals\n",
    ">* Using variables: values of the variables are copied to the tuple. If the variable changes, the tuple does not\n",
    ">* Using the `+` operator and another tuple(s). Values of the tuples are copied\n",
    ">* Using the `*` operator and another tuple\n",
    ">* Using a list and casting it to tuple with `tuple(list)`\n",
    ">* Using tuple comprehension (we will not see it)\n",
    "\n",
    "* We can extend a tuple by assigning itself plus the extension, but this is a new tuple (see ids). This is very inefficient in time"
   ]
  },
  {
   "cell_type": "code",
   "execution_count": 13,
   "metadata": {},
   "outputs": [
    {
     "name": "stdout",
     "output_type": "stream",
     "text": [
      "tup is (1, 2, 3, 4, 5)\n",
      "tup2 is ('hello', 2, 'bye', True, 2.2)\n",
      "tup3 is (1,)\n",
      "this is not a tuple 1\n",
      "the first element of tup3 is 1\n",
      "tup4 is (2, 5, 'hello')\n",
      "The new value of a is 12\n",
      "tup4 is  (2, 5, 'hello') no changes\n",
      "tup5 is (1, 2, 3, 4, 5, 'hello', 2, 'bye', True, 2.2)\n",
      "tup6 is (1, 2, 3, 4, 5, 1, 2, 3, 4, 5, 1, 1, 1)\n",
      "tup7 is (1, 2, 3, 4, 5, 6)\n",
      "list1 is [1, 2, 3, 4, 5, 6]\n",
      "list1 is [8, 2, 3, 4, 5, 6] it changes\n",
      "tup7 is (1, 2, 3, 4, 5, 6) no changes\n",
      "The id of tup8 is 98162184\n",
      "Now the id is 97992248\n",
      "tup8 is (1, 2, 3, 5, 6, 7)\n"
     ]
    }
   ],
   "source": [
    "# Creating tuples with literals\n",
    "tup = (1, 2, 3, 4, 5)\n",
    "# Parentheses are optional\n",
    "tup2 = \"hello\", 2, \"bye\", True, 2.2\n",
    "# A single element tuple needs a comma at the end\n",
    "tup3 = (1,)\n",
    "# This is not a tuple but a integer 1 is stored\n",
    "not_a_tuple = (1)\n",
    "print(\"tup is\", tup)\n",
    "print(\"tup2 is\",tup2)\n",
    "print(\"tup3 is\",tup3)\n",
    "print(\"this is not a tuple\", not_a_tuple)\n",
    "print(\"the first element of tup3 is\",tup3[0])\n",
    "# Creating tuples with variables\n",
    "a, b, c = 2, 5, \"hello\"\n",
    "tup4 = (a, b, c)\n",
    "print(\"tup4 is\", tup4)\n",
    "a = 12\n",
    "print(\"The new value of a is\", a)\n",
    "print(\"tup4 is \", tup4, \"no changes\")\n",
    "# Using the + operator\n",
    "tup5 = tup + tup2\n",
    "print(\"tup5 is\", tup5)\n",
    "# Using the * operator\n",
    "tup6 = 2 * tup + 3 * tup3\n",
    "print(\"tup6 is\", tup6)\n",
    "# Using a list and casting it\n",
    "list1 = [1, 2, 3, 4, 5, 6]\n",
    "tup7 = tuple(list1)\n",
    "print(\"tup7 is\", tup7)\n",
    "print(\"list1 is\", list1)\n",
    "list1[0] = 8\n",
    "print(\"list1 is\", list1, \"it changes\")\n",
    "print(\"tup7 is\", tup7, \"no changes\")\n",
    "# We can extend a tuple by assigning itself plus the extension, \n",
    "# but this is a new tuple (see ids). This is very inefficient in time\n",
    "tup8 = (1, 2, 3)\n",
    "print(\"The id of tup8 is\", id(tup8))\n",
    "tup8 = tup8 + (5, 6, 7)\n",
    "print(\"Now the id is\", id(tup8))\n",
    "print(\"tup8 is\", tup8)\n",
    "# I cannot change the value of an element, this raises an error\n",
    "# tup8[0] = 7\n",
    "# This is no longer a tuple, don't do it\n",
    "tup8 = \"hello\""
   ]
  },
  {
   "cell_type": "markdown",
   "metadata": {},
   "source": [
    "## Why do we use tuples?\n",
    "* We want to have something like a constant containing several values. We mark that the program shouldn't change it (it is relevant when we are working with functions)\n",
    "* Sometimes Python is forcing us to use tuples (because it needs something immutable)\n",
    "* Using tuples is faster? and requires less memory"
   ]
  },
  {
   "cell_type": "code",
   "execution_count": 10,
   "metadata": {},
   "outputs": [
    {
     "name": "stdout",
     "output_type": "stream",
     "text": [
      "tup1 is (1, 2, 3)\n",
      "its memory address is 91722736\n",
      "tup1 is (3, 2, 4, 5, 6)\n",
      "its memory address is 91913360 it changed, it is another variable\n",
      "now tup 1 is hello : it is a string, not a tuple anymore\n",
      "its memory address is 94361952 it changed again\n",
      "tup1 is (1, 2, 3)\n",
      "its memory address is 91714064\n",
      "tup1 is (1, 2, 3, 4, 5)\n",
      "its memory address is 91913360 it changed, it is another variable\n"
     ]
    }
   ],
   "source": [
    "tup1 = (1, 2, 3)\n",
    "print(\"tup1 is\", tup1)\n",
    "print(\"its memory address is\", id(tup1))\n",
    "# This is a totally different variable, I am reusing the name\n",
    "tup1 = (3, 2, 4, 5, 6)\n",
    "print(\"tup1 is\", tup1)\n",
    "print(\"its memory address is\", id(tup1), \"it changed, it is another variable\")\n",
    "# I am reusing the name (don't do that!!)\n",
    "tup1 = \"hello\"\n",
    "print(\"now tup 1 is\", tup1, \": it is a string, not a tuple anymore\")\n",
    "print(\"its memory address is\", id(tup1), \"it changed again\")\n",
    "# Sometimes you can see things like this\n",
    "# It may seem a way to extend a tuple, but actually you are creating a new one\n",
    "# Doing it is quite inefficient\n",
    "tup1 = (1, 2, 3)\n",
    "print(\"tup1 is\", tup1)\n",
    "print(\"its memory address is\", id(tup1))\n",
    "tup1 += (4, 5)\n",
    "print(\"tup1 is\", tup1)\n",
    "print(\"its memory address is\", id(tup1), \"it changed, it is another variable\")"
   ]
  },
  {
   "cell_type": "markdown",
   "metadata": {},
   "source": [
    "## Operators, functions and methods with tuples\n",
    "* `id(tuple)`: returns the id (memory address) of the tuple\n",
    "* `type(tuple)` \n",
    "* `del(tuple)`: erases the tuple and the variable\n",
    "* `len(tuple)`: returns the length\n",
    "* `print(tuple)`: prints it\n",
    "* `element in tuple`: true if the element belongs to the tuple\n",
    "*  Slicing to get elements, not to change them (like in strings)\n",
    "* `.index(x)`: returns the index of the first element in tuple whose value is x. Error if x does not exist\n",
    "* `.index(x, start, end)`: returns the index of the first element in the subtuple `[start, end)` whose value is x. Error if x does not exist\n",
    "* `.count(x)`: returns the number of occurrences of x in tuple"
   ]
  },
  {
   "cell_type": "code",
   "execution_count": 14,
   "metadata": {},
   "outputs": [
    {
     "name": "stdout",
     "output_type": "stream",
     "text": [
      "Is there a 3 in tup? True\n",
      "How many 3's in tup? 1\n",
      "The position of the first 3 in the tuple is 2\n"
     ]
    }
   ],
   "source": [
    "print(\"Is there a 3 in tup?\", 3 in tup)\n",
    "print(\"How many 3's in tup?\", tup.count(3))\n",
    "print(\"The position of the first 3 in the tuple is\", tup.index(3))"
   ]
  },
  {
   "cell_type": "markdown",
   "metadata": {},
   "source": [
    "## Packing and unpacking\n",
    "* Packing means creating a tuple/list using some variables\n",
    "* Unpacking means copying each element of a tuple/list into a variable (as many variables as tuple/list elements are needed)"
   ]
  },
  {
   "cell_type": "code",
   "execution_count": 15,
   "metadata": {},
   "outputs": [
    {
     "name": "stdout",
     "output_type": "stream",
     "text": [
      "var1 is 1\n",
      "var2 is 4\n",
      "var3 is 6\n",
      "var4 is 1\n",
      "<class 'tuple'>\n",
      "<class 'int'>\n"
     ]
    }
   ],
   "source": [
    "# This is packing\n",
    "a, b, c, d = 1, 4, 6, 1\n",
    "list1 = [a, b, c, d]\n",
    "tup1 = (a, b, c, d)\n",
    "# Unpacking (every element of the tuple/list is copied into a variable)\n",
    "# I need to have as many variables as tuple/list elements\n",
    "var1, var2, var3, var4 = tup1\n",
    "print(\"var1 is\", var1)\n",
    "print(\"var2 is\", var2)\n",
    "print(\"var3 is\", var3)\n",
    "print(\"var4 is\", var4)\n",
    "# The type of each one is different\n",
    "print(type(tup1))\n",
    "print(type(var3))"
   ]
  },
  {
   "cell_type": "markdown",
   "metadata": {},
   "source": [
    "# Casting with lists and tuples\n",
    "* `list(collection)`: converts that **collection** into a list\n",
    "* `tuple(collection)`: converts that **collection** into a tuple\n",
    "\n",
    "Usually we work with lists, and once we are sure we don't want to change them them anymore we cast them to tuples\n",
    "\n",
    "We can also convert a String to a tuple/list or use the `range` function to create tuples/lists\n",
    "But we cannot use this casting for a number or boolean. Only collections can be converted"
   ]
  },
  {
   "cell_type": "code",
   "execution_count": 13,
   "metadata": {},
   "outputs": [
    {
     "name": "stdout",
     "output_type": "stream",
     "text": [
      "[1, 4, 6, 1]\n",
      "(1, 2, 3)\n",
      "[1, 2, 3, 4, 5, 6, 7, 8, 9, 10]\n",
      "('h', 'e', 'l', 'l', 'o')\n"
     ]
    }
   ],
   "source": [
    "# Casting tuple to list and viceversa\n",
    "list1 = list(tup1)\n",
    "tuple1 = tuple([1,2,3])\n",
    "print(list1)\n",
    "print(tuple1)\n",
    "# Creating a list using range\n",
    "auto_list = list(range(1,11))\n",
    "print(auto_list)\n",
    "# Not really useful...\n",
    "st = tuple('hello')\n",
    "print(st)"
   ]
  },
  {
   "cell_type": "markdown",
   "metadata": {},
   "source": [
    "# Nested lists and tuples\n",
    "* A list/tuple inside a list/tuple (matrixes in other languages). A list/tuple whose elements are also lists/tuples"
   ]
  },
  {
   "cell_type": "code",
   "execution_count": 16,
   "metadata": {},
   "outputs": [
    {
     "name": "stdout",
     "output_type": "stream",
     "text": [
      "[[1, 2, 3], [4, 5, 6], [7, 8, 9]]\n",
      "[1, 2, 3]\n",
      "5\n",
      "[[1, 2, 3], [4, 5, 33], [7, 8, 9]]\n",
      "[[1, 2, 3], [4, 5, 33, 12], [7, 8, 9]]\n",
      "[[1, 2, 3], [4, 5, 33, 12], [7, 8, 9], 12]\n",
      "The length of the list is 4\n",
      "Is there a 1 in the list? False\n",
      "How many 3's are there? 0\n",
      "Is there a 12 in the list? True\n",
      "The number of 12's inside the matrix is 2\n",
      "[[1, 2, 3], [4, 5, 33, 12], [7, 8, 9, [1, 2, 3]], 12]\n",
      "[[1, 2, 3], [4, 5, 33, 12], [7, 8, 9, [1, 'hello', 3]], 12]\n"
     ]
    }
   ],
   "source": [
    "# This is a nested list\n",
    "mat = [[1, 2, 3], [4, 5, 6], [7, 8, 9]]\n",
    "print(mat)\n",
    "# The first element is also a list (it can be seen as a row in a matrix)\n",
    "print(mat[0])\n",
    "# Element at column 1 in row 1\n",
    "print(mat[1][1])\n",
    "# Changing an element of a sublist\n",
    "mat[1][2] = 33\n",
    "print(mat)\n",
    "# Appending an element to a sublist\n",
    "mat[1].append(12)\n",
    "print(mat)\n",
    "# Appending an element to the list\n",
    "mat.append(12)\n",
    "print(mat)\n",
    "# Some operations with nested lists\n",
    "# Methods and operators only work with 1st level items, they don't\n",
    "# go inside the sublists\n",
    "print(\"The length of the list is\", len(mat))\n",
    "print(\"Is there a 1 in the list?\", 1 in mat)\n",
    "print(\"How many 3's are there?\", mat.count(3))\n",
    "print(\"Is there a 12 in the list?\", 12 in mat)\n",
    "# To count the number of 12's I need to use loops\n",
    "number = 0\n",
    "# For each element of the list\n",
    "for row in mat:\n",
    "    # If the element is a list\n",
    "    if type(row) == list:\n",
    "        # I use count, as it is a list\n",
    "        number = number + row.count(12)\n",
    "    else:\n",
    "        # If it is not a list, I assume it is a literal \n",
    "        # but it may be also a tuple or other not seen yet\n",
    "        # data structure like dictionaries or objects.\n",
    "        if row == 12:\n",
    "            number = number + 1\n",
    "print(\"The number of 12's inside the matrix is\", number)\n",
    "\n",
    "# I add a sublist inside a sublist\n",
    "mat[2].append([1, 2, 3])\n",
    "print(mat)\n",
    "# To access one of its elements I need 3 indexes\n",
    "mat[2][3][1] = \"hello\"\n",
    "print(mat)"
   ]
  },
  {
   "cell_type": "markdown",
   "metadata": {},
   "source": [
    "## Copying nested lists\n",
    "* You cannot use = \n",
    "* If you use loops, copy() or slicing you will perform what is called *shallow* copy. The two lists will be different but their elements will be the same\n",
    "* When working with nested lists you need to use *deep* copy. Two ways:\n",
    "\n",
    ">* Use the copy library: `import copy` `a = copy.deepcopy(b)` not to be used this year\n",
    ">* Use a nested loop"
   ]
  },
  {
   "cell_type": "code",
   "execution_count": 15,
   "metadata": {},
   "outputs": [
    {
     "name": "stdout",
     "output_type": "stream",
     "text": [
      "[[1, 2], [3, 4]]\n",
      "Are mat1 and mat2 the same matrix? False\n",
      "[[12, 2], [3, 4]] it has changed!\n",
      "Are the first elements of mat1 and mat2 the same? True\n",
      "The id of mat1 is 94408176\n",
      "The id of mat2 is 94408056\n",
      "The id of the first element of mat1 is 94408096\n",
      "The id of the first element of mat2 is 94408096 they are equal!\n",
      "mat1 is [['changes in both', 2], [3, 4]]\n",
      "mat1 is [['changes in both', 2], [3, 4], 12]\n",
      "mat2 is [['changes in both', 2], [3, 4]] no element added!\n",
      "mat1 is [['changes in both', 2, 33], [3, 4], 12]\n",
      "mat2 is [['changes in both', 2, 33], [3, 4]]\n",
      "mat1 is [['changes in both', 2, 33], [3, 4, 133], 12]\n",
      "mat2 is [['changes in both', 2, 33], [3, 4, 133]]\n",
      "mat1 is [['changes in both', 2, 33], [3, 4, 133], 12]\n",
      "mat2 is [['changes in both', 2, 33], [3, 4, 133], 12]\n",
      "mat1 is [['changes in both', 2, 33], [3, 4, 133], 12]\n",
      "mat2 is [['no changes', 2, 33], [3, 4, 133], 12]\n"
     ]
    }
   ],
   "source": [
    "mat1 = [[1, 2], [3, 4]]\n",
    "mat2 = mat1.copy()\n",
    "print(mat2)\n",
    "print(\"Are mat1 and mat2 the same matrix?\", mat2 is mat1)\n",
    "mat1[0][0] = 12\n",
    "# If I change one elment of mat1, the same element of mat2 changes\n",
    "# lists are different but elements are pointing to the same address\n",
    "print(mat2, \"it has changed!\")\n",
    "print(\"Are the first elements of mat1 and mat2 the same?\", mat1[0] is  mat2[0])\n",
    "# We can use the id's to check it\n",
    "print(\"The id of mat1 is\", id(mat1))\n",
    "print(\"The id of mat2 is\", id(mat2))\n",
    "print(\"The id of the first element of mat1 is\", id(mat1[0]))\n",
    "print(\"The id of the first element of mat2 is\", id(mat2[0]), \"they are equal!\")\n",
    "# Copying with copy is like doing mat2[0] = mat1[0]\n",
    "#, mat2[1] = mat1[1] and so on. So mat2[x] and mat1[x] will point\n",
    "# to the same position and will be the same list\n",
    "# The same happens with slicing\n",
    "# And also with a for loop\n",
    "mat2 = []\n",
    "for element in mat1:\n",
    "    mat2.append(element)\n",
    "mat2[0][0] = \"changes in both\"\n",
    "print(\"mat1 is\", mat1)\n",
    "# Summary: don't use the ways to copy we saw when you have nested lists\n",
    "#(this is called shallow copy in contrast to what is called deep copy)\n",
    "# You can use (not this year) the copy library and the deepcopy() method\n",
    "# or copy with nested loops\n",
    "\n",
    "#Notice that only common elements are the same, if we add a new element in  one\n",
    "# the other does not change\n",
    "mat1.append(12)\n",
    "print(\"mat1 is\", mat1)\n",
    "print(\"mat2 is\", mat2, \"no element added!\")\n",
    "# But if we change one of the sublists in any way, the other list changes\n",
    "mat1[0].append(33)\n",
    "print(\"mat1 is\", mat1)\n",
    "print(\"mat2 is\", mat2)\n",
    "mat2[1].append(133)\n",
    "print(\"mat1 is\", mat1)\n",
    "print(\"mat2 is\", mat2)\n",
    "# Nested loop to deep copy \n",
    "# It only works if sublists do not contain lists \n",
    "# We'll see a technique in next lesson to perform deep copy to any level\n",
    "mat2 = []\n",
    "for item in mat1:\n",
    "    # If it is not a list, we append it\n",
    "    if not type(item) == list:\n",
    "        mat2.append(item)\n",
    "    else:\n",
    "        # If it is a list, we append an empty list\n",
    "        mat2.append([])\n",
    "        # And copy the sublist (-1 is the last element of mat2)\n",
    "        mat2[-1] = item.copy()\n",
    "\n",
    "# Now they are not related anymore\n",
    "print(\"mat1 is\", mat1)\n",
    "print(\"mat2 is\", mat2)\n",
    "mat2[0][0] = \"no changes\"\n",
    "print(\"mat1 is\", mat1)\n",
    "print(\"mat2 is\", mat2)"
   ]
  },
  {
   "cell_type": "markdown",
   "metadata": {},
   "source": [
    "# Tuples of lists\n",
    "* A tuple that contains a list\n",
    "* As the tuple contains the pointers to the lists and not the lists themselves, we can make changes on the lists, but we cannot remove or add any list to the tuple."
   ]
  },
  {
   "cell_type": "code",
   "execution_count": 1,
   "metadata": {},
   "outputs": [
    {
     "name": "stdout",
     "output_type": "stream",
     "text": [
      "the id is 72016200\n",
      "tup1 is ([1, 2, 3], ['hello', 3, 2.4])\n",
      "The length of tup1 is 2\n",
      "tup1 is ([1, 2, 3, 4], ['hello', 3, 2.4])\n",
      "the id is 72016200 it is still the same tuple\n",
      "tup1 is ([], ['hello', 3, 2.4])\n",
      "the id is 72016200 it is still the same tuple\n"
     ]
    }
   ],
   "source": [
    "# This is a tuple of lists\n",
    "tup1 = ([1, 2, 3], [\"hello\", 3, 2.4])\n",
    "print(\"the id is\", id(tup1))\n",
    "print(\"tup1 is\", tup1)\n",
    "print(\"The length of tup1 is\", len(tup1))\n",
    "# Can we change the contents of one the lists?\n",
    "tup1[0].append(4)\n",
    "print(\"tup1 is\", tup1)\n",
    "print(\"the id is\", id(tup1), \"it is still the same tuple\")\n",
    "# We can even clear one of the lists, but we cannot completely\n",
    "# delete it\n",
    "tup1[0].clear()\n",
    "print(\"tup1 is\", tup1)\n",
    "print(\"the id is\", id(tup1), \"it is still the same tuple\")"
   ]
  },
  {
   "cell_type": "markdown",
   "metadata": {},
   "source": [
    "# Dictionaries\n",
    "* Finite, mutable and heterogeneous collection of elements indexed **by key** (a name)\n",
    "* Difference with a list: elements are not ordered, no notion of order in a dictionary\n",
    "* `dic = {key1: value1, key2: value2, key3: value3}`\n",
    "* A dictionary contains pairs of key and value\n",
    "* Similar to records in other languages, they are also known as hash tables, associative arrays, maps, or symbol tables\n",
    "* Keys are usually strings but can they can belong to any immutable type (for example tuples, numbers, etc.)\n",
    "* Values can be literals, but also lists, dictionaries, tuples... (you can have nested dictionaries)\n",
    "* Keys must be unique, if you create two keys with the same name, the second will erase the first\n",
    "* To create a new key you only need to give a value to it: `dic[new_key] = value`"
   ]
  },
  {
   "cell_type": "code",
   "execution_count": 17,
   "metadata": {},
   "outputs": [
    {
     "name": "stdout",
     "output_type": "stream",
     "text": [
      "The value of the 'name' key is Pepe\n",
      "dic1 is {'name': 'Pepe', 'age': 18, 'surname': 'Gonzalez'}\n",
      "dic3 is {'name': 'Pepe', 'age': 20, 'surname': 'Perez'}\n",
      "dic3 is {'name': 'Pepe', 'age': 20, 'surname': 'Perez', 'address': 'Leganés and Colmenarejo'} a new key has been added\n",
      "dic4 is {}\n"
     ]
    }
   ],
   "source": [
    "# This is a dictionary, all the keys are str\n",
    "dic1 = {\"name\": \"Pepe\", \"age\": 18, \"surname\": \"Perez\"}\n",
    "# But we can have also other types of keys (inmutable)\n",
    "dic2 = {\"name\": \"Pepe\", \"age\": 18, \"surname\": \"Perez\", 18: True}\n",
    "# To access an element we use the key\n",
    "# Notice that if the key doesn't exist an error is raised (similar\n",
    "# to trying to access a non-existing index in a list or tuple)\n",
    "print(\"The value of the 'name' key is\", dic1[\"name\"])\n",
    "# To change the value of an element, we use the key again\n",
    "dic1[\"surname\"] = \"Gonzalez\"\n",
    "print(\"dic1 is\", dic1)\n",
    "# If we create two equal keys, the second erases the first\n",
    "dic3 = {\"name\": \"Pepe\", \"age\": 18, \"surname\": \"Perez\", \"age\": 20}\n",
    "print(\"dic3 is\", dic3)\n",
    "# Adding a new key\n",
    "dic3[\"address\"]= \"Leganés and Colmenarejo\"\n",
    "print(\"dic3 is\", dic3, \"a new key has been added\")\n",
    "# This creates an empty dictionary\n",
    "dic4 = {}\n",
    "print(\"dic4 is\", dic4)"
   ]
  },
  {
   "cell_type": "markdown",
   "metadata": {},
   "source": [
    "## Operations, functions and methods with dictionaries\n",
    "* To delete a key: `del(dic[key])`\n",
    "* `in` operator: to know if a dictionary contains a key\n",
    "* `print(dict)`: prints the dictionary\n",
    "* `len(dict)`: returns the number of keys\n",
    "* `del(dict)`: erases the dictionary and the variable too\n",
    "* We cannot copy dictionaries using `=` (same problem as with lists), we cannot use the `+` to join two dictionaries\n",
    "* `.copy()`: creates a copy of this dictionary (shallow copy)\n",
    "* `dict1.update(dict2)`: joins `dict1` and `dict2` (if any key is repeated it takes the `dict2` value)\n",
    "* `.clear()`: erases both keys and values, but keeps the variable\n",
    "* `.get(key)`: returns the value of that key, and `None` if the key is not in the dictionary\n",
    "* `.values()`: returns a list-like with all the values (must be casted to list)\n",
    "* `.keys()`: returns a list-like with all the keys (must be casted to list)\n",
    "* `.items()`: returns list-like with tuples containing keys and values (must be casted to list/tuple)\n",
    "* `.pop(key)`: returns the value of that key and removes the key"
   ]
  },
  {
   "cell_type": "code",
   "execution_count": 4,
   "metadata": {},
   "outputs": [
    {
     "name": "stdout",
     "output_type": "stream",
     "text": [
      "dic4 is {'age': 18, 'surname': 'Perez', 'key': 20}\n",
      "Does dic4 have the key 'age'? True\n",
      "dic5 is {'age': 18, 'surname': 'Perez', 'key': 20} a copy of dic4\n",
      "dic5 is extended with dic6: {'age': 18, 'surname': 'Perez', 'key': 'common key in both', 'key1': 11, 'key2': True}\n",
      "dic6 is {}\n",
      "The value of the 'name' key of dic5 is None\n",
      "Values of dic5: [18, 'Perez', 'common key in both', 11, True]\n",
      "Keys of dic5: ['age', 'surname', 'key', 'key1', 'key2']\n",
      "Values and keys of dic5: (('age', 18), ('surname', 'Perez'), ('key', 'common key in both'), ('key1', 11), ('key2', True))\n",
      "dic5 is {'age': 18, 'key': 'common key in both', 'key1': 11, 'key2': True}\n",
      "the value of the 'surname' key was Perez\n",
      "Result of .values() with no casting to list dict_items([('age', 18), ('key', 'common key in both'), ('key1', 11), ('key2', True)])\n"
     ]
    }
   ],
   "source": [
    "dic4 = {\"name\": \"Pepe\", \"age\": 18, \"surname\": \"Perez\", \"key\": 20}\n",
    "# Delete a key\n",
    "del(dic4[\"name\"])\n",
    "print(\"dic4 is\", dic4)\n",
    "print(\"Does dic4 have the key 'age'?\", \"age\" in dic4)\n",
    "dic5 = dic4.copy()\n",
    "print(\"dic5 is\", dic5, \"a copy of dic4\")\n",
    "dic6 = {\"key1\": 11, \"key2\": True, \"key\": \"common key in both\"}\n",
    "dic5.update(dic6)\n",
    "print(\"dic5 is extended with dic6:\", dic5)\n",
    "# Erasing a dictionary\n",
    "dic6.clear()\n",
    "print(\"dic6 is\", dic6)\n",
    "# To get the value of a key\n",
    "# First way: if the key is not existing, you will have an error\n",
    "#print(dic5[\"name\"])\n",
    "# Recommended way: no error if the key is not existing\n",
    "print(\"The value of the 'name' key of dic5 is\", dic5.get(\"name\"))\n",
    "# To get all the values of the dictionary in a list\n",
    "vals = list(dic5.values())\n",
    "print(\"Values of dic5:\", vals)\n",
    "# To get all the keys\n",
    "keys = list(dic5.keys())\n",
    "print(\"Keys of dic5:\", keys)\n",
    "# To get both values and keys\n",
    "val_keys = dic5.items()\n",
    "print(\"Values and keys of dic5:\", tuple(val_keys))\n",
    "# To get the value of a key and remove it\n",
    "val = dic5.pop('surname')\n",
    "print(\"dic5 is\", dic5)\n",
    "print(\"the value of the 'surname' key was\", val)\n",
    "print(\"Result of .items() with no casting to list\", val_keys)"
   ]
  }
 ],
 "metadata": {
  "kernelspec": {
   "display_name": "Python 3",
   "language": "python",
   "name": "python3"
  },
  "language_info": {
   "codemirror_mode": {
    "name": "ipython",
    "version": 3
   },
   "file_extension": ".py",
   "mimetype": "text/x-python",
   "name": "python",
   "nbconvert_exporter": "python",
   "pygments_lexer": "ipython3",
   "version": "3.9.5"
  }
 },
 "nbformat": 4,
 "nbformat_minor": 4
}
